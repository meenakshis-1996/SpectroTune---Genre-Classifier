{
 "cells": [
  {
   "cell_type": "code",
   "execution_count": null,
   "metadata": {},
   "outputs": [],
   "source": [
    "import tensorflow as tf\n",
    "\n",
    "print(\"Num GPUs Available: \", len(tf.config.list_physical_devices('GPU')))"
   ]
  },
  {
   "cell_type": "code",
   "execution_count": 1,
   "metadata": {},
   "outputs": [
    {
     "ename": "NameError",
     "evalue": "name 'os' is not defined",
     "output_type": "error",
     "traceback": [
      "\u001b[1;31m---------------------------------------------------------------------------\u001b[0m",
      "\u001b[1;31mNameError\u001b[0m                                 Traceback (most recent call last)",
      "\u001b[1;32mc:\\X\\Dev\\PythonProjects\\SpectroTune---Genre-Classifier\\test.ipynb Cell 2\u001b[0m line \u001b[0;36m3\n\u001b[0;32m      <a href='vscode-notebook-cell:/c%3A/X/Dev/PythonProjects/SpectroTune---Genre-Classifier/test.ipynb#W1sZmlsZQ%3D%3D?line=0'>1</a>\u001b[0m base_directory \u001b[39m=\u001b[39m \u001b[39m\"\u001b[39m\u001b[39mData/spectrogram_images/genres_noisy\u001b[39m\u001b[39m\"\u001b[39m\n\u001b[1;32m----> <a href='vscode-notebook-cell:/c%3A/X/Dev/PythonProjects/SpectroTune---Genre-Classifier/test.ipynb#W1sZmlsZQ%3D%3D?line=2'>3</a>\u001b[0m \u001b[39mfor\u001b[39;00m folder \u001b[39min\u001b[39;00m os\u001b[39m.\u001b[39mlistdir(base_directory):\n\u001b[0;32m      <a href='vscode-notebook-cell:/c%3A/X/Dev/PythonProjects/SpectroTune---Genre-Classifier/test.ipynb#W1sZmlsZQ%3D%3D?line=3'>4</a>\u001b[0m     folder_path \u001b[39m=\u001b[39m os\u001b[39m.\u001b[39mpath\u001b[39m.\u001b[39mjoin(base_directory, folder)\n\u001b[0;32m      <a href='vscode-notebook-cell:/c%3A/X/Dev/PythonProjects/SpectroTune---Genre-Classifier/test.ipynb#W1sZmlsZQ%3D%3D?line=4'>5</a>\u001b[0m     num_files \u001b[39m=\u001b[39m \u001b[39mlen\u001b[39m([f \u001b[39mfor\u001b[39;00m f \u001b[39min\u001b[39;00m os\u001b[39m.\u001b[39mlistdir(folder_path) \u001b[39mif\u001b[39;00m os\u001b[39m.\u001b[39mpath\u001b[39m.\u001b[39misfile(os\u001b[39m.\u001b[39mpath\u001b[39m.\u001b[39mjoin(folder_path, f))])\n",
      "\u001b[1;31mNameError\u001b[0m: name 'os' is not defined"
     ]
    }
   ],
   "source": [
    "base_directory = \"Data/spectrogram_images/genres_noisy\"\n",
    "\n",
    "for folder in os.listdir(base_directory):\n",
    "    folder_path = os.path.join(base_directory, folder)\n",
    "    num_files = len([f for f in os.listdir(folder_path) if os.path.isfile(os.path.join(folder_path, f))])\n",
    "    print(f\"{folder}: {num_files} files\")"
   ]
  }
 ],
 "metadata": {
  "kernelspec": {
   "display_name": "env",
   "language": "python",
   "name": "python3"
  },
  "language_info": {
   "codemirror_mode": {
    "name": "ipython",
    "version": 3
   },
   "file_extension": ".py",
   "mimetype": "text/x-python",
   "name": "python",
   "nbconvert_exporter": "python",
   "pygments_lexer": "ipython3",
   "version": "3.11.5"
  }
 },
 "nbformat": 4,
 "nbformat_minor": 2
}
